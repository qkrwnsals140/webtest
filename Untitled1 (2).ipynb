{
  "nbformat": 4,
  "nbformat_minor": 0,
  "metadata": {
    "colab": {
      "provenance": [],
      "gpuType": "T4"
    },
    "kernelspec": {
      "name": "python3",
      "display_name": "Python 3"
    },
    "language_info": {
      "name": "python"
    },
    "accelerator": "GPU",
    "gpuClass": "standard"
  },
  "cells": [
    {
      "cell_type": "code",
      "execution_count": null,
      "metadata": {
        "id": "JnKrLxvv7V2z"
      },
      "outputs": [],
      "source": [
        "import pandas as pd\n",
        "import numpy as np\n",
        "import matplotlib.pyplot as plt\n",
        "import seaborn as sns\n",
        "import cv2\n",
        "import os\n",
        "from tensorflow.keras.applications.inception_v3 import InceptionV3\n",
        "from tensorflow.keras.models import Sequential\n",
        "from tensorflow.keras.layers import Flatten, Dense, Dropout\n",
        "from tensorflow.keras.preprocessing.image import ImageDataGenerator"
      ]
    },
    {
      "cell_type": "code",
      "source": [
        "# Google Drive 연동\n",
        "from google.colab import drive\n",
        "drive.mount('/content/drive')"
      ],
      "metadata": {
        "colab": {
          "base_uri": "https://localhost:8080/"
        },
        "id": "oOTzrdVe71NN",
        "outputId": "3a3144dc-93e3-4192-d5d3-fa5372e01044"
      },
      "execution_count": null,
      "outputs": [
        {
          "output_type": "stream",
          "name": "stdout",
          "text": [
            "Drive already mounted at /content/drive; to attempt to forcibly remount, call drive.mount(\"/content/drive\", force_remount=True).\n"
          ]
        }
      ]
    },
    {
      "cell_type": "code",
      "source": [
        "# 데이터 경로\n",
        "folder_path = '/content/drive/MyDrive/Colab Notebooks/archive/chest_xray'"
      ],
      "metadata": {
        "id": "D0sppBjD78Vk"
      },
      "execution_count": null,
      "outputs": []
    },
    {
      "cell_type": "code",
      "source": [
        "# 라벨 설정\n",
        "labels = ['PNEUMONIA', 'NORMAL']"
      ],
      "metadata": {
        "id": "-ZDDCBYP8Dz7"
      },
      "execution_count": null,
      "outputs": []
    },
    {
      "cell_type": "code",
      "source": [
        "# 이미지 크기 설정\n",
        "img_size = 299\n"
      ],
      "metadata": {
        "id": "d7cgvcDs8FCA"
      },
      "execution_count": null,
      "outputs": []
    },
    {
      "cell_type": "code",
      "source": [
        "# 데이터를 읽고 전처리하는 함수 정의\n",
        "def get_training_data(data_dir, num_images):\n",
        "    data = [] \n",
        "    for label in labels: \n",
        "        path = os.path.join(data_dir, label)\n",
        "        class_num = labels.index(label)\n",
        "        count = 0\n",
        "        for img in os.listdir(path):\n",
        "            if count >= num_images:\n",
        "                break\n",
        "            try:\n",
        "                img_arr = cv2.imread(os.path.join(path, img), cv2.IMREAD_GRAYSCALE)\n",
        "                img_arr = cv2.cvtColor(img_arr, cv2.COLOR_GRAY2BGR)\n",
        "                resized_arr = cv2.resize(img_arr, (img_size, img_size))\n",
        "                data.append([resized_arr, class_num])\n",
        "                count += 1\n",
        "            except Exception as e:\n",
        "                print(e)\n",
        "    return np.array(data)"
      ],
      "metadata": {
        "id": "8VHOdVnS8F5J"
      },
      "execution_count": null,
      "outputs": []
    },
    {
      "cell_type": "code",
      "source": [
        "# 훈련, 테스트, 검증 데이터 로드\n",
        "num_images = 500\n",
        "train = get_training_data(os.path.join(folder_path, 'train'), num_images)\n",
        "test = get_training_data(os.path.join(folder_path, 'test'), num_images)\n",
        "val = get_training_data(os.path.join(folder_path, 'val'), num_images)"
      ],
      "metadata": {
        "colab": {
          "base_uri": "https://localhost:8080/"
        },
        "id": "UDaP5HPo8U2W",
        "outputId": "cd33189f-0d42-466f-ab4a-74eece11f9c7"
      },
      "execution_count": null,
      "outputs": [
        {
          "output_type": "stream",
          "name": "stderr",
          "text": [
            "<ipython-input-6-57a7e25ae03b>:19: VisibleDeprecationWarning: Creating an ndarray from ragged nested sequences (which is a list-or-tuple of lists-or-tuples-or ndarrays with different lengths or shapes) is deprecated. If you meant to do this, you must specify 'dtype=object' when creating the ndarray.\n",
            "  return np.array(data)\n"
          ]
        }
      ]
    },
    {
      "cell_type": "code",
      "source": [
        "# 훈련 데이터와 라벨 분리\n",
        "x_train = []\n",
        "y_train = []\n",
        "for feature, label in train:\n",
        "    x_train.append(feature)\n",
        "    y_train.append(label)\n",
        "x_train = np.array(x_train) / 255\n",
        "y_train = np.array(y_train)\n",
        "x_train = x_train.reshape(-1, img_size, img_size, 3)"
      ],
      "metadata": {
        "id": "gapWUbzL8HC2"
      },
      "execution_count": null,
      "outputs": []
    },
    {
      "cell_type": "code",
      "source": [
        "# 테스트 데이터와 라벨 분리\n",
        "x_test = []\n",
        "y_test = []\n",
        "for feature, label in test:\n",
        "    x_test.append(feature)\n",
        "    y_test.append(label)\n",
        "x_test = np.array(x_test) / 255\n",
        "y_test = np.array(y_test)\n",
        "x_test = x_test.reshape(-1, img_size, img_size, 3)\n"
      ],
      "metadata": {
        "id": "CF1BnO-n8IPi"
      },
      "execution_count": null,
      "outputs": []
    },
    {
      "cell_type": "code",
      "source": [
        "# 검증 데이터와 라벨 분리\n",
        "x_val = []\n",
        "y_val = []\n",
        "for feature, label in val:\n",
        "    x_val.append(feature)\n",
        "    y_val.append(label)\n",
        "x_val = np.array(x_val) / 255\n",
        "y_val = np.array(y_val)\n",
        "x_val = x_val.reshape(-1, img_size, img_size, 3)"
      ],
      "metadata": {
        "id": "9AXGHSk2_n1G"
      },
      "execution_count": null,
      "outputs": []
    },
    {
      "cell_type": "code",
      "source": [
        "from tensorflow import keras\n",
        "import tensorflow as tf\n",
        "\n",
        "# Pretrained Keras Model (2) --전체 미세조정\n",
        "from keras.applications import InceptionV3\n",
        "\n",
        "inception = InceptionV3(weights='imagenet', input_shape=(img_size, img_size, 3), include_top=True)\n",
        "\n",
        "for layer in inception.layers[:]:\n",
        "    layer.trainable = True\n",
        "\n",
        "base_inputs = inception.layers[0].input\n",
        "base_outputs = inception.layers[-2].output\n",
        "classifier = Dense(2)(base_outputs)\n",
        "new_model = tf.keras.Model(inputs=base_inputs, outputs=classifier)\n",
        "\n",
        "new_model.compile(\n",
        "    optimizer=tf.keras.optimizers.Adam(),\n",
        "    loss=keras.losses.SparseCategoricalCrossentropy(from_logits=True),\n",
        "    metrics=[\"accuracy\"]\n",
        ")"
      ],
      "metadata": {
        "id": "ONSf1dVnrWh0"
      },
      "execution_count": null,
      "outputs": []
    },
    {
      "cell_type": "code",
      "source": [
        "\n"
      ],
      "metadata": {
        "id": "n7waZxr5Af4H"
      },
      "execution_count": null,
      "outputs": []
    },
    {
      "cell_type": "code",
      "source": [
        "# 데이터 augmentation 설정\n",
        "datagen = ImageDataGenerator(\n",
        "    rotation_range=20,\n",
        "    zoom_range=0.2,\n",
        "    width_shift_range=0.1,\n",
        "    height_shift_range=0.1,\n",
        "    horizontal_flip=True\n",
        ")\n",
        "\n",
        "datagen.fit(x_train)\n"
      ],
      "metadata": {
        "id": "Dm7h1v5f_5Ct"
      },
      "execution_count": null,
      "outputs": []
    },
    {
      "cell_type": "code",
      "source": [
        "history = new_model.fit(\n",
        "    datagen.flow(x_train, y_train, batch_size=64),\n",
        "    validation_data=(x_test, y_test),\n",
        "    epochs=20\n",
        ")"
      ],
      "metadata": {
        "id": "cCWtnq5xq3C7",
        "colab": {
          "base_uri": "https://localhost:8080/"
        },
        "outputId": "7521f9a1-0016-4423-fece-ae603c802201"
      },
      "execution_count": null,
      "outputs": [
        {
          "output_type": "stream",
          "name": "stdout",
          "text": [
            "Epoch 1/20\n",
            "16/16 [==============================] - 104s 3s/step - loss: 0.2860 - accuracy: 0.8940 - val_loss: 412.6382 - val_accuracy: 0.3770\n",
            "Epoch 2/20\n",
            "16/16 [==============================] - 26s 2s/step - loss: 0.1511 - accuracy: 0.9410 - val_loss: 358.1225 - val_accuracy: 0.3770\n",
            "Epoch 3/20\n",
            "16/16 [==============================] - 26s 2s/step - loss: 0.1070 - accuracy: 0.9650 - val_loss: 95.3434 - val_accuracy: 0.3770\n",
            "Epoch 4/20\n",
            "16/16 [==============================] - 26s 2s/step - loss: 0.0953 - accuracy: 0.9610 - val_loss: 21.2465 - val_accuracy: 0.3770\n",
            "Epoch 5/20\n",
            "16/16 [==============================] - 26s 2s/step - loss: 0.1117 - accuracy: 0.9590 - val_loss: 26.4322 - val_accuracy: 0.3770\n",
            "Epoch 6/20\n",
            "16/16 [==============================] - 26s 2s/step - loss: 0.0733 - accuracy: 0.9700 - val_loss: 0.8990 - val_accuracy: 0.7348\n",
            "Epoch 7/20\n",
            "16/16 [==============================] - 27s 2s/step - loss: 0.0491 - accuracy: 0.9850 - val_loss: 5.3211 - val_accuracy: 0.4121\n",
            "Epoch 8/20\n",
            "16/16 [==============================] - 26s 2s/step - loss: 0.0632 - accuracy: 0.9760 - val_loss: 3.8843 - val_accuracy: 0.4872\n",
            "Epoch 9/20\n",
            "16/16 [==============================] - 26s 2s/step - loss: 0.0530 - accuracy: 0.9820 - val_loss: 0.7179 - val_accuracy: 0.8387\n",
            "Epoch 10/20\n",
            "16/16 [==============================] - 26s 2s/step - loss: 0.0355 - accuracy: 0.9870 - val_loss: 0.5165 - val_accuracy: 0.8914\n",
            "Epoch 11/20\n",
            "16/16 [==============================] - 26s 2s/step - loss: 0.0494 - accuracy: 0.9830 - val_loss: 0.5215 - val_accuracy: 0.8898\n",
            "Epoch 12/20\n",
            "16/16 [==============================] - 26s 2s/step - loss: 0.0456 - accuracy: 0.9840 - val_loss: 0.5491 - val_accuracy: 0.8594\n",
            "Epoch 13/20\n",
            "16/16 [==============================] - 26s 2s/step - loss: 0.0703 - accuracy: 0.9730 - val_loss: 7.1191 - val_accuracy: 0.4313\n",
            "Epoch 14/20\n",
            "16/16 [==============================] - 27s 2s/step - loss: 0.0413 - accuracy: 0.9800 - val_loss: 0.6602 - val_accuracy: 0.8626\n",
            "Epoch 15/20\n",
            "16/16 [==============================] - 27s 2s/step - loss: 0.0345 - accuracy: 0.9850 - val_loss: 0.7468 - val_accuracy: 0.8450\n",
            "Epoch 16/20\n",
            "16/16 [==============================] - 27s 2s/step - loss: 0.0269 - accuracy: 0.9930 - val_loss: 0.8283 - val_accuracy: 0.8514\n",
            "Epoch 17/20\n",
            "16/16 [==============================] - 27s 2s/step - loss: 0.0333 - accuracy: 0.9890 - val_loss: 0.3474 - val_accuracy: 0.8946\n",
            "Epoch 18/20\n",
            "16/16 [==============================] - 26s 2s/step - loss: 0.0284 - accuracy: 0.9910 - val_loss: 0.3926 - val_accuracy: 0.8866\n",
            "Epoch 19/20\n",
            "16/16 [==============================] - 27s 2s/step - loss: 0.0386 - accuracy: 0.9880 - val_loss: 0.7133 - val_accuracy: 0.8658\n",
            "Epoch 20/20\n",
            "16/16 [==============================] - 27s 2s/step - loss: 0.0188 - accuracy: 0.9930 - val_loss: 0.3750 - val_accuracy: 0.8978\n"
          ]
        }
      ]
    },
    {
      "cell_type": "code",
      "source": [
        "# 테스트 데이터로 모델 평가\n",
        "test_loss, test_accuracy = new_model.evaluate(x_test, y_test)"
      ],
      "metadata": {
        "colab": {
          "base_uri": "https://localhost:8080/"
        },
        "id": "pwTPTcpD1Uuk",
        "outputId": "18c140fd-c759-4a00-bbbc-d628c0d45db2"
      },
      "execution_count": null,
      "outputs": [
        {
          "output_type": "stream",
          "name": "stdout",
          "text": [
            "20/20 [==============================] - 3s 121ms/step - loss: 0.3750 - accuracy: 0.8978\n"
          ]
        }
      ]
    },
    {
      "cell_type": "code",
      "source": [
        "# 정확도와 손실 시각화\n",
        "epochs = range(1, 21)\n",
        "plt.figure(figsize=(12, 4))\n",
        "plt.subplot(1, 2, 1)\n",
        "plt.plot(epochs, history.history['accuracy'], label='Training Accuracy')\n",
        "plt.plot(epochs, history.history['val_accuracy'], label='Validation Accuracy')\n",
        "plt.title('Training and Validation Accuracy')\n",
        "plt.xlabel('Epochs')\n",
        "plt.ylabel('Accuracy')\n",
        "plt.legend()\n",
        "\n",
        "plt.subplot(1, 2, 2)\n",
        "plt.plot(epochs, history.history['loss'], label='Training Loss')\n",
        "plt.plot(epochs, history.history['val_loss'], label='Validation Loss')\n",
        "plt.title('Training and Validation Loss')\n",
        "plt.xlabel('Epochs')\n",
        "plt.ylabel('Loss')\n",
        "plt.legend()\n",
        "\n",
        "plt.tight_layout()\n",
        "plt.show()\n"
      ],
      "metadata": {
        "id": "mZASXjT_rhYO",
        "colab": {
          "base_uri": "https://localhost:8080/",
          "height": 407
        },
        "outputId": "25a6e96c-b2f3-4e05-bb44-83468d5414d7"
      },
      "execution_count": null,
      "outputs": [
        {
          "output_type": "display_data",
          "data": {
            "text/plain": [
              "<Figure size 1200x400 with 2 Axes>"
            ],
            "image/png": "[encoded data removed]"
          },
          "metadata": {}
        }
      ]
    },
    {
      "cell_type": "code",
      "source": [
        "# 테스트 결과 출력\n",
        "print(\"Test Loss:\", test_loss)\n",
        "print(\"Test Accuracy:\", test_accuracy)"
      ],
      "metadata": {
        "colab": {
          "base_uri": "https://localhost:8080/"
        },
        "id": "rxaNlRO408rw",
        "outputId": "13182bd9-15ef-4a36-bc46-31c645061421"
      },
      "execution_count": null,
      "outputs": [
        {
          "output_type": "stream",
          "name": "stdout",
          "text": [
            "Test Loss: 0.3750135600566864\n",
            "Test Accuracy: 0.8977635502815247\n"
          ]
        }
      ]
    },
    {
      "cell_type": "code",
      "source": [],
      "metadata": {
        "id": "kwEnJpB21bLB"
      },
      "execution_count": null,
      "outputs": []
    }
  ]
}